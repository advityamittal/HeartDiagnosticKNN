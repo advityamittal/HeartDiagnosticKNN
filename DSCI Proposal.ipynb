{
 "cells": [
  {
   "cell_type": "markdown",
   "metadata": {},
   "source": [
    "# Diagnostic for Heart Disease using KNN classification\n",
    "by Rosa Rezaei, Advitya Mittal, Ishraq Mostafa and Quincy Kuzyk"
   ]
  },
  {
   "cell_type": "markdown",
   "metadata": {},
   "source": [
    "## Introduction\n",
    "\n",
    "Heart disease is the second leading cause of death in Canada (Statistics Canada) and the leading cause of death in the United States of America, Canada’s nearest neighbor. The relatively broad term ‘heart disease’ can include a number of different health issues within the heart, including, but not limited to: coronary artery disease, congenital heart disease, arrhythmia, myocardial infarction and heart failure. This investigation’s aim is to figure out which variable in relation to a patient’s health can be best used to predict whether or not a patient will have heart disease or is at a high risk from it. The dataset that will be used for the investigation is the Cleveland Heart Disease Dataset. This dataset includes the medical data of 303 individuals from Cleveland Ohio. One of the variable columns in the dataset includes the diagnosis of heart disease in each patient. Whether they suffer from it or not as well as how severe their case may be. Each patient is assigned a number value from 0 to 4, 0 representing no heart disease, then 1 to 4 representing the presence of heart disease. The severity of the disease increases with the number. The aim of this investigation is to evaluate which observations from the Cleveland Heart Disease dataset are most closely related with the diagnosis of heart disease, with 0 representing no risk and any value above that representing risk of heart disease.\n",
    "\n",
    "Attribute information:\n",
    "1. age\n",
    "2. sex\n",
    "3. chest pain type (4 values)\n",
    "4. resting blood pressure\n",
    "5. serum cholesterol in mg/dl\n",
    "6. fasting blood sugar > 120 mg/dl\n",
    "7. resting electrocardiographic results (values 0,1,2)\n",
    "8. maximum heart rate achieved\n",
    "9. exercise induced angina\n",
    "10. oldpeak = ST depression induced by exercise relative to rest\n",
    "11. the slope of the peak exercise ST segment\n",
    "12. number of major vessels (0-3) colored by fluoroscopy\n",
    "13. thal: 3 = normal; 6 = fixed defect; 7 = reversible defect\n",
    "14. target : 0 = no risk; 1-4 = risk level\n"
   ]
  },
  {
   "cell_type": "code",
   "execution_count": 24,
   "metadata": {},
   "outputs": [],
   "source": [
    "library(tidyverse)\n",
    "library(caret)\n",
    "library(ggplot2)\n",
    "library(forcats)"
   ]
  },
  {
   "cell_type": "markdown",
   "metadata": {},
   "source": [
    "## 1. Load Data"
   ]
  },
  {
   "cell_type": "markdown",
   "metadata": {},
   "source": [
    "#### First we load the data set from Cleaveland Heart Disease Database from the web"
   ]
  },
  {
   "cell_type": "code",
   "execution_count": 25,
   "metadata": {},
   "outputs": [
    {
     "name": "stderr",
     "output_type": "stream",
     "text": [
      "\u001b[1mRows: \u001b[22m\u001b[34m303\u001b[39m \u001b[1mColumns: \u001b[22m\u001b[34m14\u001b[39m\n",
      "\u001b[36m──\u001b[39m \u001b[1mColumn specification\u001b[22m \u001b[36m────────────────────────────────────────────────────────\u001b[39m\n",
      "\u001b[1mDelimiter:\u001b[22m \",\"\n",
      "\u001b[31mchr\u001b[39m  (2): X12, X13\n",
      "\u001b[32mdbl\u001b[39m (12): X1, X2, X3, X4, X5, X6, X7, X8, X9, X10, X11, X14\n",
      "\n",
      "\u001b[36mℹ\u001b[39m Use `spec()` to retrieve the full column specification for this data.\n",
      "\u001b[36mℹ\u001b[39m Specify the column types or set `show_col_types = FALSE` to quiet this message.\n"
     ]
    },
    {
     "data": {
      "text/html": [
       "<table class=\"dataframe\">\n",
       "<caption>A tibble: 6 × 14</caption>\n",
       "<thead>\n",
       "\t<tr><th scope=col>X1</th><th scope=col>X2</th><th scope=col>X3</th><th scope=col>X4</th><th scope=col>X5</th><th scope=col>X6</th><th scope=col>X7</th><th scope=col>X8</th><th scope=col>X9</th><th scope=col>X10</th><th scope=col>X11</th><th scope=col>X12</th><th scope=col>X13</th><th scope=col>X14</th></tr>\n",
       "\t<tr><th scope=col>&lt;dbl&gt;</th><th scope=col>&lt;dbl&gt;</th><th scope=col>&lt;dbl&gt;</th><th scope=col>&lt;dbl&gt;</th><th scope=col>&lt;dbl&gt;</th><th scope=col>&lt;dbl&gt;</th><th scope=col>&lt;dbl&gt;</th><th scope=col>&lt;dbl&gt;</th><th scope=col>&lt;dbl&gt;</th><th scope=col>&lt;dbl&gt;</th><th scope=col>&lt;dbl&gt;</th><th scope=col>&lt;chr&gt;</th><th scope=col>&lt;chr&gt;</th><th scope=col>&lt;dbl&gt;</th></tr>\n",
       "</thead>\n",
       "<tbody>\n",
       "\t<tr><td>63</td><td>1</td><td>1</td><td>145</td><td>233</td><td>1</td><td>2</td><td>150</td><td>0</td><td>2.3</td><td>3</td><td>0.0</td><td>6.0</td><td>0</td></tr>\n",
       "\t<tr><td>67</td><td>1</td><td>4</td><td>160</td><td>286</td><td>0</td><td>2</td><td>108</td><td>1</td><td>1.5</td><td>2</td><td>3.0</td><td>3.0</td><td>2</td></tr>\n",
       "\t<tr><td>67</td><td>1</td><td>4</td><td>120</td><td>229</td><td>0</td><td>2</td><td>129</td><td>1</td><td>2.6</td><td>2</td><td>2.0</td><td>7.0</td><td>1</td></tr>\n",
       "\t<tr><td>37</td><td>1</td><td>3</td><td>130</td><td>250</td><td>0</td><td>0</td><td>187</td><td>0</td><td>3.5</td><td>3</td><td>0.0</td><td>3.0</td><td>0</td></tr>\n",
       "\t<tr><td>41</td><td>0</td><td>2</td><td>130</td><td>204</td><td>0</td><td>2</td><td>172</td><td>0</td><td>1.4</td><td>1</td><td>0.0</td><td>3.0</td><td>0</td></tr>\n",
       "\t<tr><td>56</td><td>1</td><td>2</td><td>120</td><td>236</td><td>0</td><td>0</td><td>178</td><td>0</td><td>0.8</td><td>1</td><td>0.0</td><td>3.0</td><td>0</td></tr>\n",
       "</tbody>\n",
       "</table>\n"
      ],
      "text/latex": [
       "A tibble: 6 × 14\n",
       "\\begin{tabular}{llllllllllllll}\n",
       " X1 & X2 & X3 & X4 & X5 & X6 & X7 & X8 & X9 & X10 & X11 & X12 & X13 & X14\\\\\n",
       " <dbl> & <dbl> & <dbl> & <dbl> & <dbl> & <dbl> & <dbl> & <dbl> & <dbl> & <dbl> & <dbl> & <chr> & <chr> & <dbl>\\\\\n",
       "\\hline\n",
       "\t 63 & 1 & 1 & 145 & 233 & 1 & 2 & 150 & 0 & 2.3 & 3 & 0.0 & 6.0 & 0\\\\\n",
       "\t 67 & 1 & 4 & 160 & 286 & 0 & 2 & 108 & 1 & 1.5 & 2 & 3.0 & 3.0 & 2\\\\\n",
       "\t 67 & 1 & 4 & 120 & 229 & 0 & 2 & 129 & 1 & 2.6 & 2 & 2.0 & 7.0 & 1\\\\\n",
       "\t 37 & 1 & 3 & 130 & 250 & 0 & 0 & 187 & 0 & 3.5 & 3 & 0.0 & 3.0 & 0\\\\\n",
       "\t 41 & 0 & 2 & 130 & 204 & 0 & 2 & 172 & 0 & 1.4 & 1 & 0.0 & 3.0 & 0\\\\\n",
       "\t 56 & 1 & 2 & 120 & 236 & 0 & 0 & 178 & 0 & 0.8 & 1 & 0.0 & 3.0 & 0\\\\\n",
       "\\end{tabular}\n"
      ],
      "text/markdown": [
       "\n",
       "A tibble: 6 × 14\n",
       "\n",
       "| X1 &lt;dbl&gt; | X2 &lt;dbl&gt; | X3 &lt;dbl&gt; | X4 &lt;dbl&gt; | X5 &lt;dbl&gt; | X6 &lt;dbl&gt; | X7 &lt;dbl&gt; | X8 &lt;dbl&gt; | X9 &lt;dbl&gt; | X10 &lt;dbl&gt; | X11 &lt;dbl&gt; | X12 &lt;chr&gt; | X13 &lt;chr&gt; | X14 &lt;dbl&gt; |\n",
       "|---|---|---|---|---|---|---|---|---|---|---|---|---|---|\n",
       "| 63 | 1 | 1 | 145 | 233 | 1 | 2 | 150 | 0 | 2.3 | 3 | 0.0 | 6.0 | 0 |\n",
       "| 67 | 1 | 4 | 160 | 286 | 0 | 2 | 108 | 1 | 1.5 | 2 | 3.0 | 3.0 | 2 |\n",
       "| 67 | 1 | 4 | 120 | 229 | 0 | 2 | 129 | 1 | 2.6 | 2 | 2.0 | 7.0 | 1 |\n",
       "| 37 | 1 | 3 | 130 | 250 | 0 | 0 | 187 | 0 | 3.5 | 3 | 0.0 | 3.0 | 0 |\n",
       "| 41 | 0 | 2 | 130 | 204 | 0 | 2 | 172 | 0 | 1.4 | 1 | 0.0 | 3.0 | 0 |\n",
       "| 56 | 1 | 2 | 120 | 236 | 0 | 0 | 178 | 0 | 0.8 | 1 | 0.0 | 3.0 | 0 |\n",
       "\n"
      ],
      "text/plain": [
       "  X1 X2 X3 X4  X5  X6 X7 X8  X9 X10 X11 X12 X13 X14\n",
       "1 63 1  1  145 233 1  2  150 0  2.3 3   0.0 6.0 0  \n",
       "2 67 1  4  160 286 0  2  108 1  1.5 2   3.0 3.0 2  \n",
       "3 67 1  4  120 229 0  2  129 1  2.6 2   2.0 7.0 1  \n",
       "4 37 1  3  130 250 0  0  187 0  3.5 3   0.0 3.0 0  \n",
       "5 41 0  2  130 204 0  2  172 0  1.4 1   0.0 3.0 0  \n",
       "6 56 1  2  120 236 0  0  178 0  0.8 1   0.0 3.0 0  "
      ]
     },
     "metadata": {},
     "output_type": "display_data"
    }
   ],
   "source": [
    "heart_disease_data <- read_csv(\"http://archive.ics.uci.edu/ml/machine-learning-databases/heart-disease/processed.cleveland.data\", col_names = FALSE)\n",
    "head(heart_disease_data)"
   ]
  },
  {
   "cell_type": "markdown",
   "metadata": {},
   "source": [
    "<span style=\"color:white\">aaaaaaaaaaaaaaaaaaaaaaaaaaaaaaaaaaaaaaaa</span> **Table 1**"
   ]
  },
  {
   "cell_type": "markdown",
   "metadata": {},
   "source": [
    "## 2. Clean Data"
   ]
  },
  {
   "cell_type": "markdown",
   "metadata": {},
   "source": [
    "#### We add column names"
   ]
  },
  {
   "cell_type": "code",
   "execution_count": 26,
   "metadata": {},
   "outputs": [
    {
     "data": {
      "text/html": [
       "<table class=\"dataframe\">\n",
       "<caption>A tibble: 6 × 14</caption>\n",
       "<thead>\n",
       "\t<tr><th scope=col>age</th><th scope=col>sex</th><th scope=col>cp</th><th scope=col>trestbps</th><th scope=col>chol</th><th scope=col>fbs</th><th scope=col>restecg</th><th scope=col>thalach</th><th scope=col>exang</th><th scope=col>oldpeak</th><th scope=col>slope</th><th scope=col>ca</th><th scope=col>thal</th><th scope=col>target</th></tr>\n",
       "\t<tr><th scope=col>&lt;dbl&gt;</th><th scope=col>&lt;dbl&gt;</th><th scope=col>&lt;dbl&gt;</th><th scope=col>&lt;dbl&gt;</th><th scope=col>&lt;dbl&gt;</th><th scope=col>&lt;dbl&gt;</th><th scope=col>&lt;dbl&gt;</th><th scope=col>&lt;dbl&gt;</th><th scope=col>&lt;dbl&gt;</th><th scope=col>&lt;dbl&gt;</th><th scope=col>&lt;dbl&gt;</th><th scope=col>&lt;chr&gt;</th><th scope=col>&lt;chr&gt;</th><th scope=col>&lt;dbl&gt;</th></tr>\n",
       "</thead>\n",
       "<tbody>\n",
       "\t<tr><td>63</td><td>1</td><td>1</td><td>145</td><td>233</td><td>1</td><td>2</td><td>150</td><td>0</td><td>2.3</td><td>3</td><td>0.0</td><td>6.0</td><td>0</td></tr>\n",
       "\t<tr><td>67</td><td>1</td><td>4</td><td>160</td><td>286</td><td>0</td><td>2</td><td>108</td><td>1</td><td>1.5</td><td>2</td><td>3.0</td><td>3.0</td><td>2</td></tr>\n",
       "\t<tr><td>67</td><td>1</td><td>4</td><td>120</td><td>229</td><td>0</td><td>2</td><td>129</td><td>1</td><td>2.6</td><td>2</td><td>2.0</td><td>7.0</td><td>1</td></tr>\n",
       "\t<tr><td>37</td><td>1</td><td>3</td><td>130</td><td>250</td><td>0</td><td>0</td><td>187</td><td>0</td><td>3.5</td><td>3</td><td>0.0</td><td>3.0</td><td>0</td></tr>\n",
       "\t<tr><td>41</td><td>0</td><td>2</td><td>130</td><td>204</td><td>0</td><td>2</td><td>172</td><td>0</td><td>1.4</td><td>1</td><td>0.0</td><td>3.0</td><td>0</td></tr>\n",
       "\t<tr><td>56</td><td>1</td><td>2</td><td>120</td><td>236</td><td>0</td><td>0</td><td>178</td><td>0</td><td>0.8</td><td>1</td><td>0.0</td><td>3.0</td><td>0</td></tr>\n",
       "</tbody>\n",
       "</table>\n"
      ],
      "text/latex": [
       "A tibble: 6 × 14\n",
       "\\begin{tabular}{llllllllllllll}\n",
       " age & sex & cp & trestbps & chol & fbs & restecg & thalach & exang & oldpeak & slope & ca & thal & target\\\\\n",
       " <dbl> & <dbl> & <dbl> & <dbl> & <dbl> & <dbl> & <dbl> & <dbl> & <dbl> & <dbl> & <dbl> & <chr> & <chr> & <dbl>\\\\\n",
       "\\hline\n",
       "\t 63 & 1 & 1 & 145 & 233 & 1 & 2 & 150 & 0 & 2.3 & 3 & 0.0 & 6.0 & 0\\\\\n",
       "\t 67 & 1 & 4 & 160 & 286 & 0 & 2 & 108 & 1 & 1.5 & 2 & 3.0 & 3.0 & 2\\\\\n",
       "\t 67 & 1 & 4 & 120 & 229 & 0 & 2 & 129 & 1 & 2.6 & 2 & 2.0 & 7.0 & 1\\\\\n",
       "\t 37 & 1 & 3 & 130 & 250 & 0 & 0 & 187 & 0 & 3.5 & 3 & 0.0 & 3.0 & 0\\\\\n",
       "\t 41 & 0 & 2 & 130 & 204 & 0 & 2 & 172 & 0 & 1.4 & 1 & 0.0 & 3.0 & 0\\\\\n",
       "\t 56 & 1 & 2 & 120 & 236 & 0 & 0 & 178 & 0 & 0.8 & 1 & 0.0 & 3.0 & 0\\\\\n",
       "\\end{tabular}\n"
      ],
      "text/markdown": [
       "\n",
       "A tibble: 6 × 14\n",
       "\n",
       "| age &lt;dbl&gt; | sex &lt;dbl&gt; | cp &lt;dbl&gt; | trestbps &lt;dbl&gt; | chol &lt;dbl&gt; | fbs &lt;dbl&gt; | restecg &lt;dbl&gt; | thalach &lt;dbl&gt; | exang &lt;dbl&gt; | oldpeak &lt;dbl&gt; | slope &lt;dbl&gt; | ca &lt;chr&gt; | thal &lt;chr&gt; | target &lt;dbl&gt; |\n",
       "|---|---|---|---|---|---|---|---|---|---|---|---|---|---|\n",
       "| 63 | 1 | 1 | 145 | 233 | 1 | 2 | 150 | 0 | 2.3 | 3 | 0.0 | 6.0 | 0 |\n",
       "| 67 | 1 | 4 | 160 | 286 | 0 | 2 | 108 | 1 | 1.5 | 2 | 3.0 | 3.0 | 2 |\n",
       "| 67 | 1 | 4 | 120 | 229 | 0 | 2 | 129 | 1 | 2.6 | 2 | 2.0 | 7.0 | 1 |\n",
       "| 37 | 1 | 3 | 130 | 250 | 0 | 0 | 187 | 0 | 3.5 | 3 | 0.0 | 3.0 | 0 |\n",
       "| 41 | 0 | 2 | 130 | 204 | 0 | 2 | 172 | 0 | 1.4 | 1 | 0.0 | 3.0 | 0 |\n",
       "| 56 | 1 | 2 | 120 | 236 | 0 | 0 | 178 | 0 | 0.8 | 1 | 0.0 | 3.0 | 0 |\n",
       "\n"
      ],
      "text/plain": [
       "  age sex cp trestbps chol fbs restecg thalach exang oldpeak slope ca  thal\n",
       "1 63  1   1  145      233  1   2       150     0     2.3     3     0.0 6.0 \n",
       "2 67  1   4  160      286  0   2       108     1     1.5     2     3.0 3.0 \n",
       "3 67  1   4  120      229  0   2       129     1     2.6     2     2.0 7.0 \n",
       "4 37  1   3  130      250  0   0       187     0     3.5     3     0.0 3.0 \n",
       "5 41  0   2  130      204  0   2       172     0     1.4     1     0.0 3.0 \n",
       "6 56  1   2  120      236  0   0       178     0     0.8     1     0.0 3.0 \n",
       "  target\n",
       "1 0     \n",
       "2 2     \n",
       "3 1     \n",
       "4 0     \n",
       "5 0     \n",
       "6 0     "
      ]
     },
     "metadata": {},
     "output_type": "display_data"
    }
   ],
   "source": [
    "colnames(heart_disease_data) <- c('age', 'sex', 'cp', 'trestbps', 'chol', 'fbs', 'restecg', 'thalach', 'exang', 'oldpeak', 'slope', 'ca', 'thal', 'target')\n",
    "head(heart_disease_data)"
   ]
  },
  {
   "cell_type": "markdown",
   "metadata": {},
   "source": [
    "<span style=\"color:white\">aaaaaaaaaaaaaaaaaaaaaaaaaaaaaaaaaaaaaaaa</span> **Table 2**"
   ]
  },
  {
   "cell_type": "markdown",
   "metadata": {},
   "source": [
    "#### Then we remove any observations with missing values"
   ]
  },
  {
   "cell_type": "code",
   "execution_count": 27,
   "metadata": {},
   "outputs": [
    {
     "data": {
      "text/html": [
       "6"
      ],
      "text/latex": [
       "6"
      ],
      "text/markdown": [
       "6"
      ],
      "text/plain": [
       "[1] 6"
      ]
     },
     "metadata": {},
     "output_type": "display_data"
    },
    {
     "data": {
      "text/html": [
       "<table class=\"dataframe\">\n",
       "<caption>A tibble: 6 × 14</caption>\n",
       "<thead>\n",
       "\t<tr><th scope=col>age</th><th scope=col>sex</th><th scope=col>cp</th><th scope=col>trestbps</th><th scope=col>chol</th><th scope=col>fbs</th><th scope=col>restecg</th><th scope=col>thalach</th><th scope=col>exang</th><th scope=col>oldpeak</th><th scope=col>slope</th><th scope=col>ca</th><th scope=col>thal</th><th scope=col>target</th></tr>\n",
       "\t<tr><th scope=col>&lt;dbl&gt;</th><th scope=col>&lt;dbl&gt;</th><th scope=col>&lt;dbl&gt;</th><th scope=col>&lt;dbl&gt;</th><th scope=col>&lt;dbl&gt;</th><th scope=col>&lt;dbl&gt;</th><th scope=col>&lt;dbl&gt;</th><th scope=col>&lt;dbl&gt;</th><th scope=col>&lt;dbl&gt;</th><th scope=col>&lt;dbl&gt;</th><th scope=col>&lt;dbl&gt;</th><th scope=col>&lt;chr&gt;</th><th scope=col>&lt;chr&gt;</th><th scope=col>&lt;dbl&gt;</th></tr>\n",
       "</thead>\n",
       "<tbody>\n",
       "\t<tr><td>63</td><td>1</td><td>1</td><td>145</td><td>233</td><td>1</td><td>2</td><td>150</td><td>0</td><td>2.3</td><td>3</td><td>0.0</td><td>6.0</td><td>0</td></tr>\n",
       "\t<tr><td>67</td><td>1</td><td>4</td><td>160</td><td>286</td><td>0</td><td>2</td><td>108</td><td>1</td><td>1.5</td><td>2</td><td>3.0</td><td>3.0</td><td>2</td></tr>\n",
       "\t<tr><td>67</td><td>1</td><td>4</td><td>120</td><td>229</td><td>0</td><td>2</td><td>129</td><td>1</td><td>2.6</td><td>2</td><td>2.0</td><td>7.0</td><td>1</td></tr>\n",
       "\t<tr><td>37</td><td>1</td><td>3</td><td>130</td><td>250</td><td>0</td><td>0</td><td>187</td><td>0</td><td>3.5</td><td>3</td><td>0.0</td><td>3.0</td><td>0</td></tr>\n",
       "\t<tr><td>41</td><td>0</td><td>2</td><td>130</td><td>204</td><td>0</td><td>2</td><td>172</td><td>0</td><td>1.4</td><td>1</td><td>0.0</td><td>3.0</td><td>0</td></tr>\n",
       "\t<tr><td>56</td><td>1</td><td>2</td><td>120</td><td>236</td><td>0</td><td>0</td><td>178</td><td>0</td><td>0.8</td><td>1</td><td>0.0</td><td>3.0</td><td>0</td></tr>\n",
       "</tbody>\n",
       "</table>\n"
      ],
      "text/latex": [
       "A tibble: 6 × 14\n",
       "\\begin{tabular}{llllllllllllll}\n",
       " age & sex & cp & trestbps & chol & fbs & restecg & thalach & exang & oldpeak & slope & ca & thal & target\\\\\n",
       " <dbl> & <dbl> & <dbl> & <dbl> & <dbl> & <dbl> & <dbl> & <dbl> & <dbl> & <dbl> & <dbl> & <chr> & <chr> & <dbl>\\\\\n",
       "\\hline\n",
       "\t 63 & 1 & 1 & 145 & 233 & 1 & 2 & 150 & 0 & 2.3 & 3 & 0.0 & 6.0 & 0\\\\\n",
       "\t 67 & 1 & 4 & 160 & 286 & 0 & 2 & 108 & 1 & 1.5 & 2 & 3.0 & 3.0 & 2\\\\\n",
       "\t 67 & 1 & 4 & 120 & 229 & 0 & 2 & 129 & 1 & 2.6 & 2 & 2.0 & 7.0 & 1\\\\\n",
       "\t 37 & 1 & 3 & 130 & 250 & 0 & 0 & 187 & 0 & 3.5 & 3 & 0.0 & 3.0 & 0\\\\\n",
       "\t 41 & 0 & 2 & 130 & 204 & 0 & 2 & 172 & 0 & 1.4 & 1 & 0.0 & 3.0 & 0\\\\\n",
       "\t 56 & 1 & 2 & 120 & 236 & 0 & 0 & 178 & 0 & 0.8 & 1 & 0.0 & 3.0 & 0\\\\\n",
       "\\end{tabular}\n"
      ],
      "text/markdown": [
       "\n",
       "A tibble: 6 × 14\n",
       "\n",
       "| age &lt;dbl&gt; | sex &lt;dbl&gt; | cp &lt;dbl&gt; | trestbps &lt;dbl&gt; | chol &lt;dbl&gt; | fbs &lt;dbl&gt; | restecg &lt;dbl&gt; | thalach &lt;dbl&gt; | exang &lt;dbl&gt; | oldpeak &lt;dbl&gt; | slope &lt;dbl&gt; | ca &lt;chr&gt; | thal &lt;chr&gt; | target &lt;dbl&gt; |\n",
       "|---|---|---|---|---|---|---|---|---|---|---|---|---|---|\n",
       "| 63 | 1 | 1 | 145 | 233 | 1 | 2 | 150 | 0 | 2.3 | 3 | 0.0 | 6.0 | 0 |\n",
       "| 67 | 1 | 4 | 160 | 286 | 0 | 2 | 108 | 1 | 1.5 | 2 | 3.0 | 3.0 | 2 |\n",
       "| 67 | 1 | 4 | 120 | 229 | 0 | 2 | 129 | 1 | 2.6 | 2 | 2.0 | 7.0 | 1 |\n",
       "| 37 | 1 | 3 | 130 | 250 | 0 | 0 | 187 | 0 | 3.5 | 3 | 0.0 | 3.0 | 0 |\n",
       "| 41 | 0 | 2 | 130 | 204 | 0 | 2 | 172 | 0 | 1.4 | 1 | 0.0 | 3.0 | 0 |\n",
       "| 56 | 1 | 2 | 120 | 236 | 0 | 0 | 178 | 0 | 0.8 | 1 | 0.0 | 3.0 | 0 |\n",
       "\n"
      ],
      "text/plain": [
       "  age sex cp trestbps chol fbs restecg thalach exang oldpeak slope ca  thal\n",
       "1 63  1   1  145      233  1   2       150     0     2.3     3     0.0 6.0 \n",
       "2 67  1   4  160      286  0   2       108     1     1.5     2     3.0 3.0 \n",
       "3 67  1   4  120      229  0   2       129     1     2.6     2     2.0 7.0 \n",
       "4 37  1   3  130      250  0   0       187     0     3.5     3     0.0 3.0 \n",
       "5 41  0   2  130      204  0   2       172     0     1.4     1     0.0 3.0 \n",
       "6 56  1   2  120      236  0   0       178     0     0.8     1     0.0 3.0 \n",
       "  target\n",
       "1 0     \n",
       "2 2     \n",
       "3 1     \n",
       "4 0     \n",
       "5 0     \n",
       "6 0     "
      ]
     },
     "metadata": {},
     "output_type": "display_data"
    }
   ],
   "source": [
    "heart_disease_data[heart_disease_data == \"?\"] <- NA\n",
    "clean_heart <- na.omit(heart_disease_data)\n",
    "sum(is.na(heart_disease_data))\n",
    "\n",
    "\n",
    "head(clean_heart)"
   ]
  },
  {
   "cell_type": "markdown",
   "metadata": {},
   "source": [
    "<span style=\"color:white\">aaaaaaaaaaaaaaaaaaaaaaaaaaaaaaaaaaaaaaaa</span> **Table 3**"
   ]
  },
  {
   "cell_type": "markdown",
   "metadata": {},
   "source": [
    "#### Target has five levels of : 0, 1, 2, 3, 4 but we’re only interested in predicting a patient has heart disease or not, so our target labels will be:\n",
    "#### 0 = No Disease\n",
    "#### 1 = Disease\n",
    "#### We will  change the integer variables “2”, “3”, and “4” to “1” in the target column, so only “0” and “1” variables remain."
   ]
  },
  {
   "cell_type": "code",
   "execution_count": 28,
   "metadata": {},
   "outputs": [
    {
     "data": {
      "text/html": [
       "<table class=\"dataframe\">\n",
       "<caption>A tibble: 6 × 14</caption>\n",
       "<thead>\n",
       "\t<tr><th scope=col>age</th><th scope=col>sex</th><th scope=col>cp</th><th scope=col>trestbps</th><th scope=col>chol</th><th scope=col>fbs</th><th scope=col>restecg</th><th scope=col>thalach</th><th scope=col>exang</th><th scope=col>oldpeak</th><th scope=col>slope</th><th scope=col>ca</th><th scope=col>thal</th><th scope=col>target</th></tr>\n",
       "\t<tr><th scope=col>&lt;dbl&gt;</th><th scope=col>&lt;dbl&gt;</th><th scope=col>&lt;dbl&gt;</th><th scope=col>&lt;dbl&gt;</th><th scope=col>&lt;dbl&gt;</th><th scope=col>&lt;dbl&gt;</th><th scope=col>&lt;dbl&gt;</th><th scope=col>&lt;dbl&gt;</th><th scope=col>&lt;dbl&gt;</th><th scope=col>&lt;dbl&gt;</th><th scope=col>&lt;dbl&gt;</th><th scope=col>&lt;chr&gt;</th><th scope=col>&lt;chr&gt;</th><th scope=col>&lt;chr&gt;</th></tr>\n",
       "</thead>\n",
       "<tbody>\n",
       "\t<tr><td>63</td><td>1</td><td>1</td><td>145</td><td>233</td><td>1</td><td>2</td><td>150</td><td>0</td><td>2.3</td><td>3</td><td>0.0</td><td>6.0</td><td>0</td></tr>\n",
       "\t<tr><td>67</td><td>1</td><td>4</td><td>160</td><td>286</td><td>0</td><td>2</td><td>108</td><td>1</td><td>1.5</td><td>2</td><td>3.0</td><td>3.0</td><td>1</td></tr>\n",
       "\t<tr><td>67</td><td>1</td><td>4</td><td>120</td><td>229</td><td>0</td><td>2</td><td>129</td><td>1</td><td>2.6</td><td>2</td><td>2.0</td><td>7.0</td><td>1</td></tr>\n",
       "\t<tr><td>37</td><td>1</td><td>3</td><td>130</td><td>250</td><td>0</td><td>0</td><td>187</td><td>0</td><td>3.5</td><td>3</td><td>0.0</td><td>3.0</td><td>0</td></tr>\n",
       "\t<tr><td>41</td><td>0</td><td>2</td><td>130</td><td>204</td><td>0</td><td>2</td><td>172</td><td>0</td><td>1.4</td><td>1</td><td>0.0</td><td>3.0</td><td>0</td></tr>\n",
       "\t<tr><td>56</td><td>1</td><td>2</td><td>120</td><td>236</td><td>0</td><td>0</td><td>178</td><td>0</td><td>0.8</td><td>1</td><td>0.0</td><td>3.0</td><td>0</td></tr>\n",
       "</tbody>\n",
       "</table>\n"
      ],
      "text/latex": [
       "A tibble: 6 × 14\n",
       "\\begin{tabular}{llllllllllllll}\n",
       " age & sex & cp & trestbps & chol & fbs & restecg & thalach & exang & oldpeak & slope & ca & thal & target\\\\\n",
       " <dbl> & <dbl> & <dbl> & <dbl> & <dbl> & <dbl> & <dbl> & <dbl> & <dbl> & <dbl> & <dbl> & <chr> & <chr> & <chr>\\\\\n",
       "\\hline\n",
       "\t 63 & 1 & 1 & 145 & 233 & 1 & 2 & 150 & 0 & 2.3 & 3 & 0.0 & 6.0 & 0\\\\\n",
       "\t 67 & 1 & 4 & 160 & 286 & 0 & 2 & 108 & 1 & 1.5 & 2 & 3.0 & 3.0 & 1\\\\\n",
       "\t 67 & 1 & 4 & 120 & 229 & 0 & 2 & 129 & 1 & 2.6 & 2 & 2.0 & 7.0 & 1\\\\\n",
       "\t 37 & 1 & 3 & 130 & 250 & 0 & 0 & 187 & 0 & 3.5 & 3 & 0.0 & 3.0 & 0\\\\\n",
       "\t 41 & 0 & 2 & 130 & 204 & 0 & 2 & 172 & 0 & 1.4 & 1 & 0.0 & 3.0 & 0\\\\\n",
       "\t 56 & 1 & 2 & 120 & 236 & 0 & 0 & 178 & 0 & 0.8 & 1 & 0.0 & 3.0 & 0\\\\\n",
       "\\end{tabular}\n"
      ],
      "text/markdown": [
       "\n",
       "A tibble: 6 × 14\n",
       "\n",
       "| age &lt;dbl&gt; | sex &lt;dbl&gt; | cp &lt;dbl&gt; | trestbps &lt;dbl&gt; | chol &lt;dbl&gt; | fbs &lt;dbl&gt; | restecg &lt;dbl&gt; | thalach &lt;dbl&gt; | exang &lt;dbl&gt; | oldpeak &lt;dbl&gt; | slope &lt;dbl&gt; | ca &lt;chr&gt; | thal &lt;chr&gt; | target &lt;chr&gt; |\n",
       "|---|---|---|---|---|---|---|---|---|---|---|---|---|---|\n",
       "| 63 | 1 | 1 | 145 | 233 | 1 | 2 | 150 | 0 | 2.3 | 3 | 0.0 | 6.0 | 0 |\n",
       "| 67 | 1 | 4 | 160 | 286 | 0 | 2 | 108 | 1 | 1.5 | 2 | 3.0 | 3.0 | 1 |\n",
       "| 67 | 1 | 4 | 120 | 229 | 0 | 2 | 129 | 1 | 2.6 | 2 | 2.0 | 7.0 | 1 |\n",
       "| 37 | 1 | 3 | 130 | 250 | 0 | 0 | 187 | 0 | 3.5 | 3 | 0.0 | 3.0 | 0 |\n",
       "| 41 | 0 | 2 | 130 | 204 | 0 | 2 | 172 | 0 | 1.4 | 1 | 0.0 | 3.0 | 0 |\n",
       "| 56 | 1 | 2 | 120 | 236 | 0 | 0 | 178 | 0 | 0.8 | 1 | 0.0 | 3.0 | 0 |\n",
       "\n"
      ],
      "text/plain": [
       "  age sex cp trestbps chol fbs restecg thalach exang oldpeak slope ca  thal\n",
       "1 63  1   1  145      233  1   2       150     0     2.3     3     0.0 6.0 \n",
       "2 67  1   4  160      286  0   2       108     1     1.5     2     3.0 3.0 \n",
       "3 67  1   4  120      229  0   2       129     1     2.6     2     2.0 7.0 \n",
       "4 37  1   3  130      250  0   0       187     0     3.5     3     0.0 3.0 \n",
       "5 41  0   2  130      204  0   2       172     0     1.4     1     0.0 3.0 \n",
       "6 56  1   2  120      236  0   0       178     0     0.8     1     0.0 3.0 \n",
       "  target\n",
       "1 0     \n",
       "2 1     \n",
       "3 1     \n",
       "4 0     \n",
       "5 0     \n",
       "6 0     "
      ]
     },
     "metadata": {},
     "output_type": "display_data"
    }
   ],
   "source": [
    "clean_heart$target[clean_heart$target==\"4\"] <- \"1\" \n",
    "clean_heart$target[clean_heart$target==\"3\"] <- \"1\" \n",
    "clean_heart$target[clean_heart$target==\"2\"] <- \"1\"\n",
    "\n",
    "\n",
    "\n",
    "head(clean_heart)"
   ]
  },
  {
   "cell_type": "markdown",
   "metadata": {},
   "source": [
    "<span style=\"color:white\">aaaaaaaaaaaaaaaaaaaaaaaaaaaaaaaaaaaaaaaa</span> **Table 4**"
   ]
  },
  {
   "cell_type": "markdown",
   "metadata": {},
   "source": [
    " #### Since target is the label we want to predict, we must change it to a factor. We also changed \"ca\" and \"thal\" to numerical variables because k-nn requires are predictors to be numerical."
   ]
  },
  {
   "cell_type": "code",
   "execution_count": 29,
   "metadata": {},
   "outputs": [
    {
     "data": {
      "text/html": [
       "<table class=\"dataframe\">\n",
       "<caption>A tibble: 6 × 14</caption>\n",
       "<thead>\n",
       "\t<tr><th scope=col>age</th><th scope=col>sex</th><th scope=col>cp</th><th scope=col>trestbps</th><th scope=col>chol</th><th scope=col>fbs</th><th scope=col>restecg</th><th scope=col>thalach</th><th scope=col>exang</th><th scope=col>oldpeak</th><th scope=col>slope</th><th scope=col>ca</th><th scope=col>thal</th><th scope=col>target</th></tr>\n",
       "\t<tr><th scope=col>&lt;dbl&gt;</th><th scope=col>&lt;dbl&gt;</th><th scope=col>&lt;dbl&gt;</th><th scope=col>&lt;dbl&gt;</th><th scope=col>&lt;dbl&gt;</th><th scope=col>&lt;dbl&gt;</th><th scope=col>&lt;dbl&gt;</th><th scope=col>&lt;dbl&gt;</th><th scope=col>&lt;dbl&gt;</th><th scope=col>&lt;dbl&gt;</th><th scope=col>&lt;dbl&gt;</th><th scope=col>&lt;dbl&gt;</th><th scope=col>&lt;dbl&gt;</th><th scope=col>&lt;fct&gt;</th></tr>\n",
       "</thead>\n",
       "<tbody>\n",
       "\t<tr><td>63</td><td>1</td><td>1</td><td>145</td><td>233</td><td>1</td><td>2</td><td>150</td><td>0</td><td>2.3</td><td>3</td><td>0</td><td>6</td><td>0</td></tr>\n",
       "\t<tr><td>67</td><td>1</td><td>4</td><td>160</td><td>286</td><td>0</td><td>2</td><td>108</td><td>1</td><td>1.5</td><td>2</td><td>3</td><td>3</td><td>1</td></tr>\n",
       "\t<tr><td>67</td><td>1</td><td>4</td><td>120</td><td>229</td><td>0</td><td>2</td><td>129</td><td>1</td><td>2.6</td><td>2</td><td>2</td><td>7</td><td>1</td></tr>\n",
       "\t<tr><td>37</td><td>1</td><td>3</td><td>130</td><td>250</td><td>0</td><td>0</td><td>187</td><td>0</td><td>3.5</td><td>3</td><td>0</td><td>3</td><td>0</td></tr>\n",
       "\t<tr><td>41</td><td>0</td><td>2</td><td>130</td><td>204</td><td>0</td><td>2</td><td>172</td><td>0</td><td>1.4</td><td>1</td><td>0</td><td>3</td><td>0</td></tr>\n",
       "\t<tr><td>56</td><td>1</td><td>2</td><td>120</td><td>236</td><td>0</td><td>0</td><td>178</td><td>0</td><td>0.8</td><td>1</td><td>0</td><td>3</td><td>0</td></tr>\n",
       "</tbody>\n",
       "</table>\n"
      ],
      "text/latex": [
       "A tibble: 6 × 14\n",
       "\\begin{tabular}{llllllllllllll}\n",
       " age & sex & cp & trestbps & chol & fbs & restecg & thalach & exang & oldpeak & slope & ca & thal & target\\\\\n",
       " <dbl> & <dbl> & <dbl> & <dbl> & <dbl> & <dbl> & <dbl> & <dbl> & <dbl> & <dbl> & <dbl> & <dbl> & <dbl> & <fct>\\\\\n",
       "\\hline\n",
       "\t 63 & 1 & 1 & 145 & 233 & 1 & 2 & 150 & 0 & 2.3 & 3 & 0 & 6 & 0\\\\\n",
       "\t 67 & 1 & 4 & 160 & 286 & 0 & 2 & 108 & 1 & 1.5 & 2 & 3 & 3 & 1\\\\\n",
       "\t 67 & 1 & 4 & 120 & 229 & 0 & 2 & 129 & 1 & 2.6 & 2 & 2 & 7 & 1\\\\\n",
       "\t 37 & 1 & 3 & 130 & 250 & 0 & 0 & 187 & 0 & 3.5 & 3 & 0 & 3 & 0\\\\\n",
       "\t 41 & 0 & 2 & 130 & 204 & 0 & 2 & 172 & 0 & 1.4 & 1 & 0 & 3 & 0\\\\\n",
       "\t 56 & 1 & 2 & 120 & 236 & 0 & 0 & 178 & 0 & 0.8 & 1 & 0 & 3 & 0\\\\\n",
       "\\end{tabular}\n"
      ],
      "text/markdown": [
       "\n",
       "A tibble: 6 × 14\n",
       "\n",
       "| age &lt;dbl&gt; | sex &lt;dbl&gt; | cp &lt;dbl&gt; | trestbps &lt;dbl&gt; | chol &lt;dbl&gt; | fbs &lt;dbl&gt; | restecg &lt;dbl&gt; | thalach &lt;dbl&gt; | exang &lt;dbl&gt; | oldpeak &lt;dbl&gt; | slope &lt;dbl&gt; | ca &lt;dbl&gt; | thal &lt;dbl&gt; | target &lt;fct&gt; |\n",
       "|---|---|---|---|---|---|---|---|---|---|---|---|---|---|\n",
       "| 63 | 1 | 1 | 145 | 233 | 1 | 2 | 150 | 0 | 2.3 | 3 | 0 | 6 | 0 |\n",
       "| 67 | 1 | 4 | 160 | 286 | 0 | 2 | 108 | 1 | 1.5 | 2 | 3 | 3 | 1 |\n",
       "| 67 | 1 | 4 | 120 | 229 | 0 | 2 | 129 | 1 | 2.6 | 2 | 2 | 7 | 1 |\n",
       "| 37 | 1 | 3 | 130 | 250 | 0 | 0 | 187 | 0 | 3.5 | 3 | 0 | 3 | 0 |\n",
       "| 41 | 0 | 2 | 130 | 204 | 0 | 2 | 172 | 0 | 1.4 | 1 | 0 | 3 | 0 |\n",
       "| 56 | 1 | 2 | 120 | 236 | 0 | 0 | 178 | 0 | 0.8 | 1 | 0 | 3 | 0 |\n",
       "\n"
      ],
      "text/plain": [
       "  age sex cp trestbps chol fbs restecg thalach exang oldpeak slope ca thal\n",
       "1 63  1   1  145      233  1   2       150     0     2.3     3     0  6   \n",
       "2 67  1   4  160      286  0   2       108     1     1.5     2     3  3   \n",
       "3 67  1   4  120      229  0   2       129     1     2.6     2     2  7   \n",
       "4 37  1   3  130      250  0   0       187     0     3.5     3     0  3   \n",
       "5 41  0   2  130      204  0   2       172     0     1.4     1     0  3   \n",
       "6 56  1   2  120      236  0   0       178     0     0.8     1     0  3   \n",
       "  target\n",
       "1 0     \n",
       "2 1     \n",
       "3 1     \n",
       "4 0     \n",
       "5 0     \n",
       "6 0     "
      ]
     },
     "metadata": {},
     "output_type": "display_data"
    }
   ],
   "source": [
    "clean_heart2 <- clean_heart %>%\n",
    "mutate(target = as.factor(target)) %>%\n",
    "mutate(thal = as.numeric(thal)) %>%\n",
    "mutate(ca = as.numeric(ca))\n",
    "\n",
    "head(clean_heart2)"
   ]
  },
  {
   "cell_type": "markdown",
   "metadata": {},
   "source": [
    "#### Now let's check to see how many levels our labels have. We should expect 2."
   ]
  },
  {
   "cell_type": "code",
   "execution_count": 30,
   "metadata": {},
   "outputs": [
    {
     "data": {
      "text/html": [
       "<style>\n",
       ".list-inline {list-style: none; margin:0; padding: 0}\n",
       ".list-inline>li {display: inline-block}\n",
       ".list-inline>li:not(:last-child)::after {content: \"\\00b7\"; padding: 0 .5ex}\n",
       "</style>\n",
       "<ol class=list-inline><li>'0'</li><li>'1'</li></ol>\n"
      ],
      "text/latex": [
       "\\begin{enumerate*}\n",
       "\\item '0'\n",
       "\\item '1'\n",
       "\\end{enumerate*}\n"
      ],
      "text/markdown": [
       "1. '0'\n",
       "2. '1'\n",
       "\n",
       "\n"
      ],
      "text/plain": [
       "[1] \"0\" \"1\""
      ]
     },
     "metadata": {},
     "output_type": "display_data"
    }
   ],
   "source": [
    "clean_heart2 %>% \n",
    "  select(target) %>% \n",
    "  unlist() %>% \n",
    "  levels()"
   ]
  },
  {
   "cell_type": "markdown",
   "metadata": {},
   "source": [
    "<span style=\"color:white\">aaaaaaaaaaaaaaaaaaaaaaaaaaaaaaaaaaaaaaaa</span> **Table 5**"
   ]
  },
  {
   "cell_type": "markdown",
   "metadata": {},
   "source": [
    "#### Now we must check to see the number of observations our data set contains for each of our class labels. This is important because unequal representation can lead to inaccurate predictions."
   ]
  },
  {
   "cell_type": "code",
   "execution_count": 31,
   "metadata": {},
   "outputs": [
    {
     "data": {
      "text/html": [
       "<table class=\"dataframe\">\n",
       "<caption>A tibble: 2 × 3</caption>\n",
       "<thead>\n",
       "\t<tr><th scope=col>target</th><th scope=col>n</th><th scope=col>percentage</th></tr>\n",
       "\t<tr><th scope=col>&lt;fct&gt;</th><th scope=col>&lt;int&gt;</th><th scope=col>&lt;dbl&gt;</th></tr>\n",
       "</thead>\n",
       "<tbody>\n",
       "\t<tr><td>0</td><td>160</td><td>53.87205</td></tr>\n",
       "\t<tr><td>1</td><td>137</td><td>46.12795</td></tr>\n",
       "</tbody>\n",
       "</table>\n"
      ],
      "text/latex": [
       "A tibble: 2 × 3\n",
       "\\begin{tabular}{lll}\n",
       " target & n & percentage\\\\\n",
       " <fct> & <int> & <dbl>\\\\\n",
       "\\hline\n",
       "\t 0 & 160 & 53.87205\\\\\n",
       "\t 1 & 137 & 46.12795\\\\\n",
       "\\end{tabular}\n"
      ],
      "text/markdown": [
       "\n",
       "A tibble: 2 × 3\n",
       "\n",
       "| target &lt;fct&gt; | n &lt;int&gt; | percentage &lt;dbl&gt; |\n",
       "|---|---|---|\n",
       "| 0 | 160 | 53.87205 |\n",
       "| 1 | 137 | 46.12795 |\n",
       "\n"
      ],
      "text/plain": [
       "  target n   percentage\n",
       "1 0      160 53.87205  \n",
       "2 1      137 46.12795  "
      ]
     },
     "metadata": {},
     "output_type": "display_data"
    }
   ],
   "source": [
    "num_obs <- nrow(clean_heart2) \n",
    "\n",
    " clean_heart2 %>% \n",
    "  group_by(target) %>% \n",
    "  summarize(n = n(),\n",
    "            percentage = n() / num_obs * 100) "
   ]
  },
  {
   "cell_type": "markdown",
   "metadata": {},
   "source": [
    "<span style=\"color:white\">aaaaaaaaa</span> **Table 6**"
   ]
  },
  {
   "cell_type": "markdown",
   "metadata": {},
   "source": [
    "#### Before we go further, we check to see the difference in values of the variables using str function. Significantly different values will influence our classification at varying degrees which will make our predications less accurate."
   ]
  },
  {
   "cell_type": "code",
   "execution_count": 32,
   "metadata": {},
   "outputs": [
    {
     "name": "stdout",
     "output_type": "stream",
     "text": [
      "tibble [297 × 14] (S3: tbl_df/tbl/data.frame)\n",
      " $ age     : num [1:297] 63 67 67 37 41 56 62 57 63 53 ...\n",
      " $ sex     : num [1:297] 1 1 1 1 0 1 0 0 1 1 ...\n",
      " $ cp      : num [1:297] 1 4 4 3 2 2 4 4 4 4 ...\n",
      " $ trestbps: num [1:297] 145 160 120 130 130 120 140 120 130 140 ...\n",
      " $ chol    : num [1:297] 233 286 229 250 204 236 268 354 254 203 ...\n",
      " $ fbs     : num [1:297] 1 0 0 0 0 0 0 0 0 1 ...\n",
      " $ restecg : num [1:297] 2 2 2 0 2 0 2 0 2 2 ...\n",
      " $ thalach : num [1:297] 150 108 129 187 172 178 160 163 147 155 ...\n",
      " $ exang   : num [1:297] 0 1 1 0 0 0 0 1 0 1 ...\n",
      " $ oldpeak : num [1:297] 2.3 1.5 2.6 3.5 1.4 0.8 3.6 0.6 1.4 3.1 ...\n",
      " $ slope   : num [1:297] 3 2 2 3 1 1 3 1 2 3 ...\n",
      " $ ca      : num [1:297] 0 3 2 0 0 0 2 0 1 0 ...\n",
      " $ thal    : num [1:297] 6 3 7 3 3 3 3 3 7 7 ...\n",
      " $ target  : Factor w/ 2 levels \"0\",\"1\": 1 2 2 1 1 1 2 1 2 2 ...\n",
      " - attr(*, \"na.action\")= 'omit' Named int [1:6] 88 167 193 267 288 303\n",
      "  ..- attr(*, \"names\")= chr [1:6] \"88\" \"167\" \"193\" \"267\" ...\n"
     ]
    }
   ],
   "source": [
    "str(clean_heart2)"
   ]
  },
  {
   "cell_type": "markdown",
   "metadata": {},
   "source": [
    "#### Here we can see that age, trestbps, chol and thalach are greater values and hence the data will need to be standardized (below)."
   ]
  },
  {
   "cell_type": "markdown",
   "metadata": {},
   "source": [
    "## 3. Splitting the data into training and test set"
   ]
  },
  {
   "cell_type": "markdown",
   "metadata": {},
   "source": [
    "#### Next, we be partioning the data into a training (70%) and testing (30%) set using the caret package.  As previously mentioned, we will use the variable target as our class label. Using createDataPartition function we get the row numbers of data we should include in our training set."
   ]
  },
  {
   "cell_type": "code",
   "execution_count": 33,
   "metadata": {},
   "outputs": [],
   "source": [
    "set.seed(1)\n",
    "\n",
    "training_rows <- clean_heart2 %>%\n",
    "    select(target) %>%\n",
    "    unlist() %>%\n",
    "    createDataPartition(p = 0.70, list = FALSE)"
   ]
  },
  {
   "cell_type": "markdown",
   "metadata": {},
   "source": [
    "#### Using the rows designated above, we use the slice function to create rows for the training set and testing set  "
   ]
  },
  {
   "cell_type": "code",
   "execution_count": 34,
   "metadata": {},
   "outputs": [
    {
     "data": {
      "text/html": [
       "<table class=\"dataframe\">\n",
       "<caption>A tibble: 6 × 14</caption>\n",
       "<thead>\n",
       "\t<tr><th scope=col>age</th><th scope=col>sex</th><th scope=col>cp</th><th scope=col>trestbps</th><th scope=col>chol</th><th scope=col>fbs</th><th scope=col>restecg</th><th scope=col>thalach</th><th scope=col>exang</th><th scope=col>oldpeak</th><th scope=col>slope</th><th scope=col>ca</th><th scope=col>thal</th><th scope=col>target</th></tr>\n",
       "\t<tr><th scope=col>&lt;dbl&gt;</th><th scope=col>&lt;dbl&gt;</th><th scope=col>&lt;dbl&gt;</th><th scope=col>&lt;dbl&gt;</th><th scope=col>&lt;dbl&gt;</th><th scope=col>&lt;dbl&gt;</th><th scope=col>&lt;dbl&gt;</th><th scope=col>&lt;dbl&gt;</th><th scope=col>&lt;dbl&gt;</th><th scope=col>&lt;dbl&gt;</th><th scope=col>&lt;dbl&gt;</th><th scope=col>&lt;dbl&gt;</th><th scope=col>&lt;dbl&gt;</th><th scope=col>&lt;fct&gt;</th></tr>\n",
       "</thead>\n",
       "<tbody>\n",
       "\t<tr><td>63</td><td>1</td><td>1</td><td>145</td><td>233</td><td>1</td><td>2</td><td>150</td><td>0</td><td>2.3</td><td>3</td><td>0</td><td>6</td><td>0</td></tr>\n",
       "\t<tr><td>67</td><td>1</td><td>4</td><td>160</td><td>286</td><td>0</td><td>2</td><td>108</td><td>1</td><td>1.5</td><td>2</td><td>3</td><td>3</td><td>1</td></tr>\n",
       "\t<tr><td>67</td><td>1</td><td>4</td><td>120</td><td>229</td><td>0</td><td>2</td><td>129</td><td>1</td><td>2.6</td><td>2</td><td>2</td><td>7</td><td>1</td></tr>\n",
       "\t<tr><td>37</td><td>1</td><td>3</td><td>130</td><td>250</td><td>0</td><td>0</td><td>187</td><td>0</td><td>3.5</td><td>3</td><td>0</td><td>3</td><td>0</td></tr>\n",
       "\t<tr><td>53</td><td>1</td><td>4</td><td>140</td><td>203</td><td>1</td><td>2</td><td>155</td><td>1</td><td>3.1</td><td>3</td><td>0</td><td>7</td><td>1</td></tr>\n",
       "\t<tr><td>57</td><td>1</td><td>4</td><td>140</td><td>192</td><td>0</td><td>0</td><td>148</td><td>0</td><td>0.4</td><td>2</td><td>0</td><td>6</td><td>0</td></tr>\n",
       "</tbody>\n",
       "</table>\n"
      ],
      "text/latex": [
       "A tibble: 6 × 14\n",
       "\\begin{tabular}{llllllllllllll}\n",
       " age & sex & cp & trestbps & chol & fbs & restecg & thalach & exang & oldpeak & slope & ca & thal & target\\\\\n",
       " <dbl> & <dbl> & <dbl> & <dbl> & <dbl> & <dbl> & <dbl> & <dbl> & <dbl> & <dbl> & <dbl> & <dbl> & <dbl> & <fct>\\\\\n",
       "\\hline\n",
       "\t 63 & 1 & 1 & 145 & 233 & 1 & 2 & 150 & 0 & 2.3 & 3 & 0 & 6 & 0\\\\\n",
       "\t 67 & 1 & 4 & 160 & 286 & 0 & 2 & 108 & 1 & 1.5 & 2 & 3 & 3 & 1\\\\\n",
       "\t 67 & 1 & 4 & 120 & 229 & 0 & 2 & 129 & 1 & 2.6 & 2 & 2 & 7 & 1\\\\\n",
       "\t 37 & 1 & 3 & 130 & 250 & 0 & 0 & 187 & 0 & 3.5 & 3 & 0 & 3 & 0\\\\\n",
       "\t 53 & 1 & 4 & 140 & 203 & 1 & 2 & 155 & 1 & 3.1 & 3 & 0 & 7 & 1\\\\\n",
       "\t 57 & 1 & 4 & 140 & 192 & 0 & 0 & 148 & 0 & 0.4 & 2 & 0 & 6 & 0\\\\\n",
       "\\end{tabular}\n"
      ],
      "text/markdown": [
       "\n",
       "A tibble: 6 × 14\n",
       "\n",
       "| age &lt;dbl&gt; | sex &lt;dbl&gt; | cp &lt;dbl&gt; | trestbps &lt;dbl&gt; | chol &lt;dbl&gt; | fbs &lt;dbl&gt; | restecg &lt;dbl&gt; | thalach &lt;dbl&gt; | exang &lt;dbl&gt; | oldpeak &lt;dbl&gt; | slope &lt;dbl&gt; | ca &lt;dbl&gt; | thal &lt;dbl&gt; | target &lt;fct&gt; |\n",
       "|---|---|---|---|---|---|---|---|---|---|---|---|---|---|\n",
       "| 63 | 1 | 1 | 145 | 233 | 1 | 2 | 150 | 0 | 2.3 | 3 | 0 | 6 | 0 |\n",
       "| 67 | 1 | 4 | 160 | 286 | 0 | 2 | 108 | 1 | 1.5 | 2 | 3 | 3 | 1 |\n",
       "| 67 | 1 | 4 | 120 | 229 | 0 | 2 | 129 | 1 | 2.6 | 2 | 2 | 7 | 1 |\n",
       "| 37 | 1 | 3 | 130 | 250 | 0 | 0 | 187 | 0 | 3.5 | 3 | 0 | 3 | 0 |\n",
       "| 53 | 1 | 4 | 140 | 203 | 1 | 2 | 155 | 1 | 3.1 | 3 | 0 | 7 | 1 |\n",
       "| 57 | 1 | 4 | 140 | 192 | 0 | 0 | 148 | 0 | 0.4 | 2 | 0 | 6 | 0 |\n",
       "\n"
      ],
      "text/plain": [
       "  age sex cp trestbps chol fbs restecg thalach exang oldpeak slope ca thal\n",
       "1 63  1   1  145      233  1   2       150     0     2.3     3     0  6   \n",
       "2 67  1   4  160      286  0   2       108     1     1.5     2     3  3   \n",
       "3 67  1   4  120      229  0   2       129     1     2.6     2     2  7   \n",
       "4 37  1   3  130      250  0   0       187     0     3.5     3     0  3   \n",
       "5 53  1   4  140      203  1   2       155     1     3.1     3     0  7   \n",
       "6 57  1   4  140      192  0   0       148     0     0.4     2     0  6   \n",
       "  target\n",
       "1 0     \n",
       "2 1     \n",
       "3 1     \n",
       "4 0     \n",
       "5 1     \n",
       "6 0     "
      ]
     },
     "metadata": {},
     "output_type": "display_data"
    }
   ],
   "source": [
    "training_set <- clean_heart2 %>%\n",
    "               slice(training_rows)\n",
    "\n",
    "test_set <- clean_heart2 %>%\n",
    "               slice(-training_rows)\n",
    "\n",
    "head(training_set)"
   ]
  },
  {
   "cell_type": "markdown",
   "metadata": {},
   "source": [
    "<span style=\"color:white\">aaaaaaaaaaaaaaaaaaaaaaaaaaaaaaaaaaaaaaaa</span> **Table 7**"
   ]
  },
  {
   "cell_type": "markdown",
   "metadata": {},
   "source": [
    "#### Now we perform a data transformation to scale and centre our predictors. Scale transformation is only done on the training set to ensure that our test data does not influence any part of our model training, it is then applied to the train and test set seperately."
   ]
  },
  {
   "cell_type": "code",
   "execution_count": 35,
   "metadata": {},
   "outputs": [
    {
     "data": {
      "text/html": [
       "<table class=\"dataframe\">\n",
       "<caption>A tibble: 6 × 14</caption>\n",
       "<thead>\n",
       "\t<tr><th scope=col>age</th><th scope=col>sex</th><th scope=col>cp</th><th scope=col>trestbps</th><th scope=col>chol</th><th scope=col>fbs</th><th scope=col>restecg</th><th scope=col>thalach</th><th scope=col>exang</th><th scope=col>oldpeak</th><th scope=col>slope</th><th scope=col>ca</th><th scope=col>thal</th><th scope=col>target</th></tr>\n",
       "\t<tr><th scope=col>&lt;dbl&gt;</th><th scope=col>&lt;dbl&gt;</th><th scope=col>&lt;dbl&gt;</th><th scope=col>&lt;dbl&gt;</th><th scope=col>&lt;dbl&gt;</th><th scope=col>&lt;dbl&gt;</th><th scope=col>&lt;dbl&gt;</th><th scope=col>&lt;dbl&gt;</th><th scope=col>&lt;dbl&gt;</th><th scope=col>&lt;dbl&gt;</th><th scope=col>&lt;dbl&gt;</th><th scope=col>&lt;dbl&gt;</th><th scope=col>&lt;dbl&gt;</th><th scope=col>&lt;fct&gt;</th></tr>\n",
       "</thead>\n",
       "<tbody>\n",
       "\t<tr><td> 0.9346033</td><td> 0.6899303</td><td>-2.2368535</td><td> 0.74911571</td><td>-0.27597761</td><td> 2.426332</td><td> 1.008496</td><td> 0.01746496</td><td>-0.695246</td><td> 1.0671642</td><td> 2.2603305</td><td>-0.7207596</td><td> 0.6547723</td><td>0</td></tr>\n",
       "\t<tr><td> 1.3766051</td><td> 0.6899303</td><td> 0.8724078</td><td> 1.59357687</td><td> 0.74330055</td><td>-0.410757</td><td> 1.008496</td><td>-1.81327350</td><td> 1.433497</td><td> 0.3811301</td><td> 0.6426964</td><td> 2.4742493</td><td>-0.8927134</td><td>1</td></tr>\n",
       "\t<tr><td> 1.3766051</td><td> 0.6899303</td><td> 0.8724078</td><td>-0.65831955</td><td>-0.35290426</td><td>-0.410757</td><td> 1.008496</td><td>-0.89790427</td><td> 1.433497</td><td> 1.3244270</td><td> 0.6426964</td><td> 1.4092463</td><td> 1.1706008</td><td>1</td></tr>\n",
       "\t<tr><td>-1.9384088</td><td> 0.6899303</td><td>-0.1640127</td><td>-0.09534545</td><td> 0.05096067</td><td>-0.410757</td><td>-1.001728</td><td> 1.63025836</td><td>-0.695246</td><td> 2.0962153</td><td> 2.2603305</td><td>-0.7207596</td><td>-0.8927134</td><td>0</td></tr>\n",
       "\t<tr><td>-1.4964070</td><td>-1.4445416</td><td>-1.2004331</td><td>-0.09534545</td><td>-0.83369584</td><td>-0.410757</td><td> 1.008496</td><td> 0.97642320</td><td>-0.695246</td><td> 0.2953758</td><td>-0.9749377</td><td>-0.7207596</td><td>-0.8927134</td><td>0</td></tr>\n",
       "\t<tr><td> 0.1611000</td><td> 0.6899303</td><td>-1.2004331</td><td>-0.65831955</td><td>-0.21828262</td><td>-0.410757</td><td>-1.001728</td><td> 1.23795726</td><td>-0.695246</td><td>-0.2191498</td><td>-0.9749377</td><td>-0.7207596</td><td>-0.8927134</td><td>0</td></tr>\n",
       "</tbody>\n",
       "</table>\n"
      ],
      "text/latex": [
       "A tibble: 6 × 14\n",
       "\\begin{tabular}{llllllllllllll}\n",
       " age & sex & cp & trestbps & chol & fbs & restecg & thalach & exang & oldpeak & slope & ca & thal & target\\\\\n",
       " <dbl> & <dbl> & <dbl> & <dbl> & <dbl> & <dbl> & <dbl> & <dbl> & <dbl> & <dbl> & <dbl> & <dbl> & <dbl> & <fct>\\\\\n",
       "\\hline\n",
       "\t  0.9346033 &  0.6899303 & -2.2368535 &  0.74911571 & -0.27597761 &  2.426332 &  1.008496 &  0.01746496 & -0.695246 &  1.0671642 &  2.2603305 & -0.7207596 &  0.6547723 & 0\\\\\n",
       "\t  1.3766051 &  0.6899303 &  0.8724078 &  1.59357687 &  0.74330055 & -0.410757 &  1.008496 & -1.81327350 &  1.433497 &  0.3811301 &  0.6426964 &  2.4742493 & -0.8927134 & 1\\\\\n",
       "\t  1.3766051 &  0.6899303 &  0.8724078 & -0.65831955 & -0.35290426 & -0.410757 &  1.008496 & -0.89790427 &  1.433497 &  1.3244270 &  0.6426964 &  1.4092463 &  1.1706008 & 1\\\\\n",
       "\t -1.9384088 &  0.6899303 & -0.1640127 & -0.09534545 &  0.05096067 & -0.410757 & -1.001728 &  1.63025836 & -0.695246 &  2.0962153 &  2.2603305 & -0.7207596 & -0.8927134 & 0\\\\\n",
       "\t -1.4964070 & -1.4445416 & -1.2004331 & -0.09534545 & -0.83369584 & -0.410757 &  1.008496 &  0.97642320 & -0.695246 &  0.2953758 & -0.9749377 & -0.7207596 & -0.8927134 & 0\\\\\n",
       "\t  0.1611000 &  0.6899303 & -1.2004331 & -0.65831955 & -0.21828262 & -0.410757 & -1.001728 &  1.23795726 & -0.695246 & -0.2191498 & -0.9749377 & -0.7207596 & -0.8927134 & 0\\\\\n",
       "\\end{tabular}\n"
      ],
      "text/markdown": [
       "\n",
       "A tibble: 6 × 14\n",
       "\n",
       "| age &lt;dbl&gt; | sex &lt;dbl&gt; | cp &lt;dbl&gt; | trestbps &lt;dbl&gt; | chol &lt;dbl&gt; | fbs &lt;dbl&gt; | restecg &lt;dbl&gt; | thalach &lt;dbl&gt; | exang &lt;dbl&gt; | oldpeak &lt;dbl&gt; | slope &lt;dbl&gt; | ca &lt;dbl&gt; | thal &lt;dbl&gt; | target &lt;fct&gt; |\n",
       "|---|---|---|---|---|---|---|---|---|---|---|---|---|---|\n",
       "|  0.9346033 |  0.6899303 | -2.2368535 |  0.74911571 | -0.27597761 |  2.426332 |  1.008496 |  0.01746496 | -0.695246 |  1.0671642 |  2.2603305 | -0.7207596 |  0.6547723 | 0 |\n",
       "|  1.3766051 |  0.6899303 |  0.8724078 |  1.59357687 |  0.74330055 | -0.410757 |  1.008496 | -1.81327350 |  1.433497 |  0.3811301 |  0.6426964 |  2.4742493 | -0.8927134 | 1 |\n",
       "|  1.3766051 |  0.6899303 |  0.8724078 | -0.65831955 | -0.35290426 | -0.410757 |  1.008496 | -0.89790427 |  1.433497 |  1.3244270 |  0.6426964 |  1.4092463 |  1.1706008 | 1 |\n",
       "| -1.9384088 |  0.6899303 | -0.1640127 | -0.09534545 |  0.05096067 | -0.410757 | -1.001728 |  1.63025836 | -0.695246 |  2.0962153 |  2.2603305 | -0.7207596 | -0.8927134 | 0 |\n",
       "| -1.4964070 | -1.4445416 | -1.2004331 | -0.09534545 | -0.83369584 | -0.410757 |  1.008496 |  0.97642320 | -0.695246 |  0.2953758 | -0.9749377 | -0.7207596 | -0.8927134 | 0 |\n",
       "|  0.1611000 |  0.6899303 | -1.2004331 | -0.65831955 | -0.21828262 | -0.410757 | -1.001728 |  1.23795726 | -0.695246 | -0.2191498 | -0.9749377 | -0.7207596 | -0.8927134 | 0 |\n",
       "\n"
      ],
      "text/plain": [
       "  age        sex        cp         trestbps    chol        fbs       restecg  \n",
       "1  0.9346033  0.6899303 -2.2368535  0.74911571 -0.27597761  2.426332  1.008496\n",
       "2  1.3766051  0.6899303  0.8724078  1.59357687  0.74330055 -0.410757  1.008496\n",
       "3  1.3766051  0.6899303  0.8724078 -0.65831955 -0.35290426 -0.410757  1.008496\n",
       "4 -1.9384088  0.6899303 -0.1640127 -0.09534545  0.05096067 -0.410757 -1.001728\n",
       "5 -1.4964070 -1.4445416 -1.2004331 -0.09534545 -0.83369584 -0.410757  1.008496\n",
       "6  0.1611000  0.6899303 -1.2004331 -0.65831955 -0.21828262 -0.410757 -1.001728\n",
       "  thalach     exang     oldpeak    slope      ca         thal       target\n",
       "1  0.01746496 -0.695246  1.0671642  2.2603305 -0.7207596  0.6547723 0     \n",
       "2 -1.81327350  1.433497  0.3811301  0.6426964  2.4742493 -0.8927134 1     \n",
       "3 -0.89790427  1.433497  1.3244270  0.6426964  1.4092463  1.1706008 1     \n",
       "4  1.63025836 -0.695246  2.0962153  2.2603305 -0.7207596 -0.8927134 0     \n",
       "5  0.97642320 -0.695246  0.2953758 -0.9749377 -0.7207596 -0.8927134 0     \n",
       "6  1.23795726 -0.695246 -0.2191498 -0.9749377 -0.7207596 -0.8927134 0     "
      ]
     },
     "metadata": {},
     "output_type": "display_data"
    }
   ],
   "source": [
    "scale_transformer <- preProcess(clean_heart2, method = c(\"center\", \"scale\")) \n",
    "training_set <- predict(scale_transformer, clean_heart2)\n",
    "test_set <- predict(scale_transformer, test_set)\n",
    "head(training_set)"
   ]
  },
  {
   "cell_type": "markdown",
   "metadata": {},
   "source": [
    "<span style=\"color:white\">aaaaaaaaaaaaaaaaaaaaaaaaaaaaaaaaaaaaaaaaaaaaaaaaaaaaaaaaa</span> **Table 8**"
   ]
  },
  {
   "cell_type": "markdown",
   "metadata": {},
   "source": [
    "#### We summarize the training data set. The following tables show the number of observations of each case of target(risk), and the percentage as well. We also showed the mean of the predictor variables in another summary table."
   ]
  },
  {
   "cell_type": "code",
   "execution_count": 36,
   "metadata": {},
   "outputs": [
    {
     "data": {
      "text/html": [
       "<table class=\"dataframe\">\n",
       "<caption>A tibble: 2 × 3</caption>\n",
       "<thead>\n",
       "\t<tr><th scope=col>target</th><th scope=col>n</th><th scope=col>percentage</th></tr>\n",
       "\t<tr><th scope=col>&lt;fct&gt;</th><th scope=col>&lt;int&gt;</th><th scope=col>&lt;dbl&gt;</th></tr>\n",
       "</thead>\n",
       "<tbody>\n",
       "\t<tr><td>0</td><td>160</td><td>53.87205</td></tr>\n",
       "\t<tr><td>1</td><td>137</td><td>46.12795</td></tr>\n",
       "</tbody>\n",
       "</table>\n"
      ],
      "text/latex": [
       "A tibble: 2 × 3\n",
       "\\begin{tabular}{lll}\n",
       " target & n & percentage\\\\\n",
       " <fct> & <int> & <dbl>\\\\\n",
       "\\hline\n",
       "\t 0 & 160 & 53.87205\\\\\n",
       "\t 1 & 137 & 46.12795\\\\\n",
       "\\end{tabular}\n"
      ],
      "text/markdown": [
       "\n",
       "A tibble: 2 × 3\n",
       "\n",
       "| target &lt;fct&gt; | n &lt;int&gt; | percentage &lt;dbl&gt; |\n",
       "|---|---|---|\n",
       "| 0 | 160 | 53.87205 |\n",
       "| 1 | 137 | 46.12795 |\n",
       "\n"
      ],
      "text/plain": [
       "  target n   percentage\n",
       "1 0      160 53.87205  \n",
       "2 1      137 46.12795  "
      ]
     },
     "metadata": {},
     "output_type": "display_data"
    },
    {
     "data": {
      "text/html": [
       "<table class=\"dataframe\">\n",
       "<caption>A tibble: 2 × 7</caption>\n",
       "<thead>\n",
       "\t<tr><th scope=col>target</th><th scope=col>mean_trestbps</th><th scope=col>mean_chol</th><th scope=col>mean_thalach</th><th scope=col>mean_age</th><th scope=col>mean_oldpeak</th><th scope=col>number_of_observations</th></tr>\n",
       "\t<tr><th scope=col>&lt;fct&gt;</th><th scope=col>&lt;dbl&gt;</th><th scope=col>&lt;dbl&gt;</th><th scope=col>&lt;dbl&gt;</th><th scope=col>&lt;dbl&gt;</th><th scope=col>&lt;dbl&gt;</th><th scope=col>&lt;int&gt;</th></tr>\n",
       "</thead>\n",
       "<tbody>\n",
       "\t<tr><td>0</td><td>-0.1417908</td><td>-0.07416534</td><td> 0.3915132</td><td>-0.2097672</td><td>-0.3917302</td><td>160</td></tr>\n",
       "\t<tr><td>1</td><td> 0.1655951</td><td> 0.08661645</td><td>-0.4572416</td><td> 0.2449836</td><td> 0.4574952</td><td>137</td></tr>\n",
       "</tbody>\n",
       "</table>\n"
      ],
      "text/latex": [
       "A tibble: 2 × 7\n",
       "\\begin{tabular}{lllllll}\n",
       " target & mean\\_trestbps & mean\\_chol & mean\\_thalach & mean\\_age & mean\\_oldpeak & number\\_of\\_observations\\\\\n",
       " <fct> & <dbl> & <dbl> & <dbl> & <dbl> & <dbl> & <int>\\\\\n",
       "\\hline\n",
       "\t 0 & -0.1417908 & -0.07416534 &  0.3915132 & -0.2097672 & -0.3917302 & 160\\\\\n",
       "\t 1 &  0.1655951 &  0.08661645 & -0.4572416 &  0.2449836 &  0.4574952 & 137\\\\\n",
       "\\end{tabular}\n"
      ],
      "text/markdown": [
       "\n",
       "A tibble: 2 × 7\n",
       "\n",
       "| target &lt;fct&gt; | mean_trestbps &lt;dbl&gt; | mean_chol &lt;dbl&gt; | mean_thalach &lt;dbl&gt; | mean_age &lt;dbl&gt; | mean_oldpeak &lt;dbl&gt; | number_of_observations &lt;int&gt; |\n",
       "|---|---|---|---|---|---|---|\n",
       "| 0 | -0.1417908 | -0.07416534 |  0.3915132 | -0.2097672 | -0.3917302 | 160 |\n",
       "| 1 |  0.1655951 |  0.08661645 | -0.4572416 |  0.2449836 |  0.4574952 | 137 |\n",
       "\n"
      ],
      "text/plain": [
       "  target mean_trestbps mean_chol   mean_thalach mean_age   mean_oldpeak\n",
       "1 0      -0.1417908    -0.07416534  0.3915132   -0.2097672 -0.3917302  \n",
       "2 1       0.1655951     0.08661645 -0.4572416    0.2449836  0.4574952  \n",
       "  number_of_observations\n",
       "1 160                   \n",
       "2 137                   "
      ]
     },
     "metadata": {},
     "output_type": "display_data"
    }
   ],
   "source": [
    "num_obs <- nrow(training_set)\n",
    "training_set %>% \n",
    "  group_by(target) %>% \n",
    "  summarize(n = n(),\n",
    "            percentage = n() / num_obs * 100)\n",
    "\n",
    "training_set_summary <- group_by(training_set, target) %>%\n",
    "    summarize(mean_trestbps = mean(trestbps),\n",
    "              mean_chol = mean(chol),\n",
    "              mean_thalach = mean(thalach),\n",
    "              mean_age = mean(age),\n",
    "              mean_oldpeak = mean(oldpeak),\n",
    "              number_of_observations = length(target))\n",
    "training_set_summary"
   ]
  },
  {
   "cell_type": "markdown",
   "metadata": {},
   "source": [
    "<span style=\"color:white\">aaaaaaaaaaaaaaaaaaaaaaaaaaaaaaaaaaaaaaaa</span> **Tables 9 & 10**"
   ]
  },
  {
   "cell_type": "markdown",
   "metadata": {},
   "source": [
    "## 4. Choosing K"
   ]
  },
  {
   "cell_type": "markdown",
   "metadata": {},
   "source": [
    "#### We will use cross-validation to choose the best K based on all predictors. Target is our class label."
   ]
  },
  {
   "cell_type": "code",
   "execution_count": 37,
   "metadata": {},
   "outputs": [
    {
     "data": {
      "text/html": [
       "<table class=\"dataframe\">\n",
       "<caption>A data.frame: 6 × 13</caption>\n",
       "<thead>\n",
       "\t<tr><th></th><th scope=col>age</th><th scope=col>sex</th><th scope=col>cp</th><th scope=col>trestbps</th><th scope=col>chol</th><th scope=col>fbs</th><th scope=col>restecg</th><th scope=col>thalach</th><th scope=col>exang</th><th scope=col>oldpeak</th><th scope=col>slope</th><th scope=col>ca</th><th scope=col>thal</th></tr>\n",
       "\t<tr><th></th><th scope=col>&lt;dbl&gt;</th><th scope=col>&lt;dbl&gt;</th><th scope=col>&lt;dbl&gt;</th><th scope=col>&lt;dbl&gt;</th><th scope=col>&lt;dbl&gt;</th><th scope=col>&lt;dbl&gt;</th><th scope=col>&lt;dbl&gt;</th><th scope=col>&lt;dbl&gt;</th><th scope=col>&lt;dbl&gt;</th><th scope=col>&lt;dbl&gt;</th><th scope=col>&lt;dbl&gt;</th><th scope=col>&lt;dbl&gt;</th><th scope=col>&lt;dbl&gt;</th></tr>\n",
       "</thead>\n",
       "<tbody>\n",
       "\t<tr><th scope=row>1</th><td> 0.9346033</td><td> 0.6899303</td><td>-2.2368535</td><td> 0.74911571</td><td>-0.27597761</td><td> 2.426332</td><td> 1.008496</td><td> 0.01746496</td><td>-0.695246</td><td> 1.0671642</td><td> 2.2603305</td><td>-0.7207596</td><td> 0.6547723</td></tr>\n",
       "\t<tr><th scope=row>2</th><td> 1.3766051</td><td> 0.6899303</td><td> 0.8724078</td><td> 1.59357687</td><td> 0.74330055</td><td>-0.410757</td><td> 1.008496</td><td>-1.81327350</td><td> 1.433497</td><td> 0.3811301</td><td> 0.6426964</td><td> 2.4742493</td><td>-0.8927134</td></tr>\n",
       "\t<tr><th scope=row>3</th><td> 1.3766051</td><td> 0.6899303</td><td> 0.8724078</td><td>-0.65831955</td><td>-0.35290426</td><td>-0.410757</td><td> 1.008496</td><td>-0.89790427</td><td> 1.433497</td><td> 1.3244270</td><td> 0.6426964</td><td> 1.4092463</td><td> 1.1706008</td></tr>\n",
       "\t<tr><th scope=row>4</th><td>-1.9384088</td><td> 0.6899303</td><td>-0.1640127</td><td>-0.09534545</td><td> 0.05096067</td><td>-0.410757</td><td>-1.001728</td><td> 1.63025836</td><td>-0.695246</td><td> 2.0962153</td><td> 2.2603305</td><td>-0.7207596</td><td>-0.8927134</td></tr>\n",
       "\t<tr><th scope=row>5</th><td>-1.4964070</td><td>-1.4445416</td><td>-1.2004331</td><td>-0.09534545</td><td>-0.83369584</td><td>-0.410757</td><td> 1.008496</td><td> 0.97642320</td><td>-0.695246</td><td> 0.2953758</td><td>-0.9749377</td><td>-0.7207596</td><td>-0.8927134</td></tr>\n",
       "\t<tr><th scope=row>6</th><td> 0.1611000</td><td> 0.6899303</td><td>-1.2004331</td><td>-0.65831955</td><td>-0.21828262</td><td>-0.410757</td><td>-1.001728</td><td> 1.23795726</td><td>-0.695246</td><td>-0.2191498</td><td>-0.9749377</td><td>-0.7207596</td><td>-0.8927134</td></tr>\n",
       "</tbody>\n",
       "</table>\n"
      ],
      "text/latex": [
       "A data.frame: 6 × 13\n",
       "\\begin{tabular}{r|lllllllllllll}\n",
       "  & age & sex & cp & trestbps & chol & fbs & restecg & thalach & exang & oldpeak & slope & ca & thal\\\\\n",
       "  & <dbl> & <dbl> & <dbl> & <dbl> & <dbl> & <dbl> & <dbl> & <dbl> & <dbl> & <dbl> & <dbl> & <dbl> & <dbl>\\\\\n",
       "\\hline\n",
       "\t1 &  0.9346033 &  0.6899303 & -2.2368535 &  0.74911571 & -0.27597761 &  2.426332 &  1.008496 &  0.01746496 & -0.695246 &  1.0671642 &  2.2603305 & -0.7207596 &  0.6547723\\\\\n",
       "\t2 &  1.3766051 &  0.6899303 &  0.8724078 &  1.59357687 &  0.74330055 & -0.410757 &  1.008496 & -1.81327350 &  1.433497 &  0.3811301 &  0.6426964 &  2.4742493 & -0.8927134\\\\\n",
       "\t3 &  1.3766051 &  0.6899303 &  0.8724078 & -0.65831955 & -0.35290426 & -0.410757 &  1.008496 & -0.89790427 &  1.433497 &  1.3244270 &  0.6426964 &  1.4092463 &  1.1706008\\\\\n",
       "\t4 & -1.9384088 &  0.6899303 & -0.1640127 & -0.09534545 &  0.05096067 & -0.410757 & -1.001728 &  1.63025836 & -0.695246 &  2.0962153 &  2.2603305 & -0.7207596 & -0.8927134\\\\\n",
       "\t5 & -1.4964070 & -1.4445416 & -1.2004331 & -0.09534545 & -0.83369584 & -0.410757 &  1.008496 &  0.97642320 & -0.695246 &  0.2953758 & -0.9749377 & -0.7207596 & -0.8927134\\\\\n",
       "\t6 &  0.1611000 &  0.6899303 & -1.2004331 & -0.65831955 & -0.21828262 & -0.410757 & -1.001728 &  1.23795726 & -0.695246 & -0.2191498 & -0.9749377 & -0.7207596 & -0.8927134\\\\\n",
       "\\end{tabular}\n"
      ],
      "text/markdown": [
       "\n",
       "A data.frame: 6 × 13\n",
       "\n",
       "| <!--/--> | age &lt;dbl&gt; | sex &lt;dbl&gt; | cp &lt;dbl&gt; | trestbps &lt;dbl&gt; | chol &lt;dbl&gt; | fbs &lt;dbl&gt; | restecg &lt;dbl&gt; | thalach &lt;dbl&gt; | exang &lt;dbl&gt; | oldpeak &lt;dbl&gt; | slope &lt;dbl&gt; | ca &lt;dbl&gt; | thal &lt;dbl&gt; |\n",
       "|---|---|---|---|---|---|---|---|---|---|---|---|---|---|\n",
       "| 1 |  0.9346033 |  0.6899303 | -2.2368535 |  0.74911571 | -0.27597761 |  2.426332 |  1.008496 |  0.01746496 | -0.695246 |  1.0671642 |  2.2603305 | -0.7207596 |  0.6547723 |\n",
       "| 2 |  1.3766051 |  0.6899303 |  0.8724078 |  1.59357687 |  0.74330055 | -0.410757 |  1.008496 | -1.81327350 |  1.433497 |  0.3811301 |  0.6426964 |  2.4742493 | -0.8927134 |\n",
       "| 3 |  1.3766051 |  0.6899303 |  0.8724078 | -0.65831955 | -0.35290426 | -0.410757 |  1.008496 | -0.89790427 |  1.433497 |  1.3244270 |  0.6426964 |  1.4092463 |  1.1706008 |\n",
       "| 4 | -1.9384088 |  0.6899303 | -0.1640127 | -0.09534545 |  0.05096067 | -0.410757 | -1.001728 |  1.63025836 | -0.695246 |  2.0962153 |  2.2603305 | -0.7207596 | -0.8927134 |\n",
       "| 5 | -1.4964070 | -1.4445416 | -1.2004331 | -0.09534545 | -0.83369584 | -0.410757 |  1.008496 |  0.97642320 | -0.695246 |  0.2953758 | -0.9749377 | -0.7207596 | -0.8927134 |\n",
       "| 6 |  0.1611000 |  0.6899303 | -1.2004331 | -0.65831955 | -0.21828262 | -0.410757 | -1.001728 |  1.23795726 | -0.695246 | -0.2191498 | -0.9749377 | -0.7207596 | -0.8927134 |\n",
       "\n"
      ],
      "text/plain": [
       "  age        sex        cp         trestbps    chol        fbs       restecg  \n",
       "1  0.9346033  0.6899303 -2.2368535  0.74911571 -0.27597761  2.426332  1.008496\n",
       "2  1.3766051  0.6899303  0.8724078  1.59357687  0.74330055 -0.410757  1.008496\n",
       "3  1.3766051  0.6899303  0.8724078 -0.65831955 -0.35290426 -0.410757  1.008496\n",
       "4 -1.9384088  0.6899303 -0.1640127 -0.09534545  0.05096067 -0.410757 -1.001728\n",
       "5 -1.4964070 -1.4445416 -1.2004331 -0.09534545 -0.83369584 -0.410757  1.008496\n",
       "6  0.1611000  0.6899303 -1.2004331 -0.65831955 -0.21828262 -0.410757 -1.001728\n",
       "  thalach     exang     oldpeak    slope      ca         thal      \n",
       "1  0.01746496 -0.695246  1.0671642  2.2603305 -0.7207596  0.6547723\n",
       "2 -1.81327350  1.433497  0.3811301  0.6426964  2.4742493 -0.8927134\n",
       "3 -0.89790427  1.433497  1.3244270  0.6426964  1.4092463  1.1706008\n",
       "4  1.63025836 -0.695246  2.0962153  2.2603305 -0.7207596 -0.8927134\n",
       "5  0.97642320 -0.695246  0.2953758 -0.9749377 -0.7207596 -0.8927134\n",
       "6  1.23795726 -0.695246 -0.2191498 -0.9749377 -0.7207596 -0.8927134"
      ]
     },
     "metadata": {},
     "output_type": "display_data"
    },
    {
     "data": {
      "text/html": [
       "<style>\n",
       ".dl-inline {width: auto; margin:0; padding: 0}\n",
       ".dl-inline>dt, .dl-inline>dd {float: none; width: auto; display: inline-block}\n",
       ".dl-inline>dt::after {content: \":\\0020\"; padding-right: .5ex}\n",
       ".dl-inline>dt:not(:first-of-type) {padding-left: .5ex}\n",
       "</style><dl class=dl-inline><dt>target1</dt><dd>0</dd><dt>target2</dt><dd>1</dd><dt>target3</dt><dd>1</dd><dt>target4</dt><dd>0</dd><dt>target5</dt><dd>0</dd><dt>target6</dt><dd>0</dd></dl>\n",
       "\n",
       "<details>\n",
       "\t<summary style=display:list-item;cursor:pointer>\n",
       "\t\t<strong>Levels</strong>:\n",
       "\t</summary>\n",
       "\t<style>\n",
       "\t.list-inline {list-style: none; margin:0; padding: 0}\n",
       "\t.list-inline>li {display: inline-block}\n",
       "\t.list-inline>li:not(:last-child)::after {content: \"\\00b7\"; padding: 0 .5ex}\n",
       "\t</style>\n",
       "\t<ol class=list-inline><li>'0'</li><li>'1'</li></ol>\n",
       "</details>"
      ],
      "text/latex": [
       "\\begin{description*}\n",
       "\\item[target1] 0\n",
       "\\item[target2] 1\n",
       "\\item[target3] 1\n",
       "\\item[target4] 0\n",
       "\\item[target5] 0\n",
       "\\item[target6] 0\n",
       "\\end{description*}\n",
       "\n",
       "\\emph{Levels}: \\begin{enumerate*}\n",
       "\\item '0'\n",
       "\\item '1'\n",
       "\\end{enumerate*}\n"
      ],
      "text/markdown": [
       "target1\n",
       ":   0target2\n",
       ":   1target3\n",
       ":   1target4\n",
       ":   0target5\n",
       ":   0target6\n",
       ":   0\n",
       "\n",
       "\n",
       "**Levels**: 1. '0'\n",
       "2. '1'\n",
       "\n",
       "\n"
      ],
      "text/plain": [
       "target1 target2 target3 target4 target5 target6 \n",
       "      0       1       1       0       0       0 \n",
       "Levels: 0 1"
      ]
     },
     "metadata": {},
     "output_type": "display_data"
    }
   ],
   "source": [
    "X_train <- training_set %>% \n",
    "  select(age, sex, cp, trestbps, chol, fbs, restecg, thalach, exang, oldpeak, slope, ca, thal) %>% \n",
    "  data.frame()\n",
    "\n",
    "Y_train <- training_set %>% \n",
    "  select(target) %>% \n",
    "  unlist()\n",
    "\n",
    "head(X_train)\n",
    "head(Y_train)"
   ]
  },
  {
   "cell_type": "markdown",
   "metadata": {},
   "source": [
    "<span style=\"color:white\">aaaaaaaaaaaaaaaaaaaaaaaaaaaaaaaaaaaaaaaaaaaaaaaa</span> **Table 11**"
   ]
  },
  {
   "cell_type": "markdown",
   "metadata": {},
   "source": [
    "#### We  use c function to create a data frame ks with all the Ks we would like to try out and train control function passes on the additional information to the train function we use to train our classifier. Here we set the arguments to method = \"cv\"  which stands for cross-validation and number = 10 for 10-fold cross-validation.\n",
    "\n",
    "#### To help assess accuracy of each k we pass train_control to the trControl function and adds this as an argument to the train function. We then visualize the accuracies of each k to help us choose k."
   ]
  },
  {
   "cell_type": "code",
   "execution_count": 38,
   "metadata": {},
   "outputs": [
    {
     "data": {
      "image/png": "[encoded data removed]",
      "text/plain": [
       "plot without title"
      ]
     },
     "metadata": {
      "image/png": {
       "height": 420,
       "width": 420
      }
     },
     "output_type": "display_data"
    }
   ],
   "source": [
    "set.seed(4321) \n",
    "\n",
    "ks <- data.frame(k = c(1,3,5,7,9,11))\n",
    "train_control <- trainControl(method = \"cv\", number = 10)\n",
    "\n",
    "\n",
    "\n",
    "choose_k <- train(x = X_train, y = Y_train, method = \"knn\", tuneGrid = ks ,trControl = train_control)\n",
    "\n",
    "k_accuracies <- choose_k$results %>%\n",
    "select(k, Accuracy)\n",
    "\n",
    "\n",
    "choose_k_plot <- ggplot(k_accuracies, aes(x = k, y = Accuracy)) +\n",
    "                          geom_point() +\n",
    "                         geom_line()\n",
    "choose_k_plot"
   ]
  },
  {
   "cell_type": "markdown",
   "metadata": {},
   "source": [
    "<span style=\"color:white\">aaaaaaaaaaaaaaaaaaaaaaaaasssssaaaaaaaaaaaaaaaaaaaaaaaaa</span> **Figure 1**"
   ]
  },
  {
   "cell_type": "markdown",
   "metadata": {},
   "source": [
    "#### Based on our visualization above, k = 5 is the optimal k. We create our classifier, model_knn, using our training set ."
   ]
  },
  {
   "cell_type": "code",
   "execution_count": 39,
   "metadata": {},
   "outputs": [
    {
     "data": {
      "text/plain": [
       "k-Nearest Neighbors \n",
       "\n",
       "297 samples\n",
       " 13 predictor\n",
       "  2 classes: '0', '1' \n",
       "\n",
       "No pre-processing\n",
       "Resampling: Bootstrapped (25 reps) \n",
       "Summary of sample sizes: 297, 297, 297, 297, 297, 297, ... \n",
       "Resampling results:\n",
       "\n",
       "  Accuracy   Kappa    \n",
       "  0.8000026  0.5965531\n",
       "\n",
       "Tuning parameter 'k' was held constant at a value of 5"
      ]
     },
     "metadata": {},
     "output_type": "display_data"
    }
   ],
   "source": [
    "k = data.frame(k = 5)\n",
    "\n",
    "set.seed(9999)\n",
    "model_knn <- train(x = X_train, y = Y_train, method = \"knn\", tuneGrid = k)\n",
    "model_knn\n"
   ]
  },
  {
   "cell_type": "markdown",
   "metadata": {},
   "source": [
    "#### Now we predict labels in our training set and evaluate the training accuracy using confusionMatrix function. "
   ]
  },
  {
   "cell_type": "code",
   "execution_count": 40,
   "metadata": {},
   "outputs": [
    {
     "data": {
      "text/plain": [
       "Confusion Matrix and Statistics\n",
       "\n",
       "          Reference\n",
       "Prediction   0   1\n",
       "         0 145  19\n",
       "         1  15 118\n",
       "                                          \n",
       "               Accuracy : 0.8855          \n",
       "                 95% CI : (0.8437, 0.9194)\n",
       "    No Information Rate : 0.5387          \n",
       "    P-Value [Acc > NIR] : <2e-16          \n",
       "                                          \n",
       "                  Kappa : 0.7692          \n",
       "                                          \n",
       " Mcnemar's Test P-Value : 0.6069          \n",
       "                                          \n",
       "            Sensitivity : 0.9062          \n",
       "            Specificity : 0.8613          \n",
       "         Pos Pred Value : 0.8841          \n",
       "         Neg Pred Value : 0.8872          \n",
       "             Prevalence : 0.5387          \n",
       "         Detection Rate : 0.4882          \n",
       "   Detection Prevalence : 0.5522          \n",
       "      Balanced Accuracy : 0.8838          \n",
       "                                          \n",
       "       'Positive' Class : 0               \n",
       "                                          "
      ]
     },
     "metadata": {},
     "output_type": "display_data"
    },
    {
     "data": {
      "text/html": [
       "<strong>Accuracy:</strong> 0.885521885521885"
      ],
      "text/latex": [
       "\\textbf{Accuracy:} 0.885521885521885"
      ],
      "text/markdown": [
       "**Accuracy:** 0.885521885521885"
      ],
      "text/plain": [
       " Accuracy \n",
       "0.8855219 "
      ]
     },
     "metadata": {},
     "output_type": "display_data"
    }
   ],
   "source": [
    "set.seed(9999) \n",
    "\n",
    "# your code here\n",
    "predictions <- predict(model_knn, X_train)\n",
    "training_results <- confusionMatrix(predictions, Y_train)\n",
    "training_results\n",
    "training_results$overall[1]"
   ]
  },
  {
   "cell_type": "markdown",
   "metadata": {},
   "source": [
    "## 5. Assessing our Model"
   ]
  },
  {
   "cell_type": "markdown",
   "metadata": {},
   "source": [
    "#### We will test our classifier accuracy by using the test data set that has never been touched up until now. "
   ]
  },
  {
   "cell_type": "code",
   "execution_count": 41,
   "metadata": {},
   "outputs": [
    {
     "data": {
      "text/html": [
       "<strong>Accuracy:</strong> 0.865168539325843"
      ],
      "text/latex": [
       "\\textbf{Accuracy:} 0.865168539325843"
      ],
      "text/markdown": [
       "**Accuracy:** 0.865168539325843"
      ],
      "text/plain": [
       " Accuracy \n",
       "0.8651685 "
      ]
     },
     "metadata": {},
     "output_type": "display_data"
    }
   ],
   "source": [
    "set.seed(4545)\n",
    "\n",
    "X_test <- test_set %>% \n",
    "  select(age, sex, cp, trestbps, chol, fbs, restecg, thalach, exang, oldpeak, slope, ca, thal) %>% \n",
    "  data.frame()\n",
    "\n",
    "Y_test <- test_set %>% \n",
    "    select(target) %>% \n",
    "    unlist()\n",
    "\n",
    "test_pred <- predict(model_knn, X_test)\n",
    "test_results <- confusionMatrix(test_pred, Y_test)\n",
    "test_results$overall[1]"
   ]
  },
  {
   "cell_type": "markdown",
   "metadata": {},
   "source": [
    "#### We find that the classifier accuracy after using the model on the test data is 86.5%"
   ]
  },
  {
   "cell_type": "markdown",
   "metadata": {},
   "source": [
    "# Conclusion\n",
    "\n",
    "Our project goal was to predict the danger of coronary illness in people using k-nn classification.\n",
    " \n",
    "Firstly, we load and clean our chosen dataset(Cleveland Heart Disease Dataset) by assigning column names and removing observations with missing values.\n",
    "Our final result variable, Target has 2 labels, namely 0 and 1, indicating risk and no risk respectively.\n",
    "As k-nn requires predictors to be numerical , we change the “ca” and “thal” variable accordingly.\n",
    "Using str functions, we find that age, trestbps, chol and thalach are greater values and hence the data needs to be standardized.\n",
    "Next, we split our data into training and testing sets using caret package and create rows for both using slice function. \n",
    "We then perform a data transformation on our training set, and then applied to both the sets separately.\n",
    "To choose the most accurate k, we perform cross-validation. Finally, we visualize accuracies of each k as shown in choose_k_plot and find k=5 to be the optimal choice.\n",
    "Finally, using the training set, we create our classifier, model_knn.\n",
    "We evaluate the training accuracy using confusionMatrix function, which is found to be Accuracy = 0.885521885521885 .\n",
    "To assess our model, We test classifier accuracy, acting on our test data set.\n",
    "\n",
    "\n",
    "The impact of our project could be life-saving. Patients can be diagnosed with risk of heart disease in a short time just from the data of the patients’ attributes. Further improvement on the overall functioning can make our predictions for the risk of heart disease even more accurate. This would not only allow the medical authority, but also the people at risk to be more cautious and aware about their health. After all, precaution is better than cure.\n",
    "\n",
    "Further data collection and analysis could even make it possible to predict the level of risk of heart disease as well the type of heart disease. \n",
    "Besides guiding people to be able to keep better precaution, this can also help the Doctors in Diagnosing a fatal illness at an early stage.\n"
   ]
  }
 ],
 "metadata": {
  "kernelspec": {
   "display_name": "R",
   "language": "R",
   "name": "ir"
  },
  "language_info": {
   "codemirror_mode": "r",
   "file_extension": ".r",
   "mimetype": "text/x-r-source",
   "name": "R",
   "pygments_lexer": "r",
   "version": "4.2.2"
  }
 },
 "nbformat": 4,
 "nbformat_minor": 4
}
